{
 "cells": [
  {
   "cell_type": "markdown",
   "metadata": {},
   "source": [
    "### Dataset Link\n",
    "https://www.kaggle.com/code/usmanayaz/petrol-gas-prices-worldwide-eda/data\n",
    "\n",
    "Dataset Label : June 23, 2022 version 2"
   ]
  },
  {
   "cell_type": "code",
   "execution_count": 15,
   "metadata": {},
   "outputs": [],
   "source": [
    "# loading the necessary libraries\n",
    "import numpy as np\n",
    "import pandas as pd\n",
    "import os\n",
    "import matplotlib.pyplot as plt\n",
    "import autoviz.AutoViz_Class\n",
    "import klib\n",
    "import seaborn as sns\n",
    "import statsmodels.api as sm\n",
    "from scipy.stats import kstest "
   ]
  },
  {
   "cell_type": "markdown",
   "metadata": {},
   "source": [
    "### Loading data"
   ]
  },
  {
   "cell_type": "code",
   "execution_count": 16,
   "metadata": {},
   "outputs": [],
   "source": [
    "# loading the csv file into a pandas dataframe format \n",
    "df = pd.read_csv(\"/DataScienceProjects/petrolData.csv\",index_col=1,encoding='latin-1')\n",
    "df[\"Country\"] = df.index\n",
    "df = df.set_index(\"S#\")"
   ]
  },
  {
   "cell_type": "code",
   "execution_count": 17,
   "metadata": {},
   "outputs": [
    {
     "data": {
      "text/html": [
       "<div>\n",
       "<style scoped>\n",
       "    .dataframe tbody tr th:only-of-type {\n",
       "        vertical-align: middle;\n",
       "    }\n",
       "\n",
       "    .dataframe tbody tr th {\n",
       "        vertical-align: top;\n",
       "    }\n",
       "\n",
       "    .dataframe thead th {\n",
       "        text-align: right;\n",
       "    }\n",
       "</style>\n",
       "<table border=\"1\" class=\"dataframe\">\n",
       "  <thead>\n",
       "    <tr style=\"text-align: right;\">\n",
       "      <th></th>\n",
       "      <th>Daily Oil Consumption (Barrels)</th>\n",
       "      <th>World Share</th>\n",
       "      <th>Yearly Gallons Per Capita</th>\n",
       "      <th>Price Per Gallon (USD)</th>\n",
       "      <th>Price Per Liter (USD)</th>\n",
       "      <th>Price Per Liter (PKR)</th>\n",
       "      <th>GDP Per Capita ( USD )</th>\n",
       "      <th>Gallons GDP Per Capita Can Buy</th>\n",
       "      <th>xTimes Yearly Gallons Per Capita Buy</th>\n",
       "      <th>Country</th>\n",
       "    </tr>\n",
       "    <tr>\n",
       "      <th>S#</th>\n",
       "      <th></th>\n",
       "      <th></th>\n",
       "      <th></th>\n",
       "      <th></th>\n",
       "      <th></th>\n",
       "      <th></th>\n",
       "      <th></th>\n",
       "      <th></th>\n",
       "      <th></th>\n",
       "      <th></th>\n",
       "    </tr>\n",
       "  </thead>\n",
       "  <tbody>\n",
       "    <tr>\n",
       "      <th>1</th>\n",
       "      <td>19,687,287</td>\n",
       "      <td>20%</td>\n",
       "      <td>934.3</td>\n",
       "      <td>5.19</td>\n",
       "      <td>1.37</td>\n",
       "      <td>289.97</td>\n",
       "      <td>63,414</td>\n",
       "      <td>12,218</td>\n",
       "      <td>13</td>\n",
       "      <td>United States</td>\n",
       "    </tr>\n",
       "    <tr>\n",
       "      <th>2</th>\n",
       "      <td>12,791,553</td>\n",
       "      <td>13%</td>\n",
       "      <td>138.7</td>\n",
       "      <td>5.42</td>\n",
       "      <td>1.43</td>\n",
       "      <td>302.87</td>\n",
       "      <td>10,435</td>\n",
       "      <td>1,925</td>\n",
       "      <td>14</td>\n",
       "      <td>China</td>\n",
       "    </tr>\n",
       "    <tr>\n",
       "      <th>3</th>\n",
       "      <td>4,443,000</td>\n",
       "      <td>5%</td>\n",
       "      <td>51.4</td>\n",
       "      <td>5.05</td>\n",
       "      <td>1.33</td>\n",
       "      <td>281.93</td>\n",
       "      <td>1,901</td>\n",
       "      <td>376</td>\n",
       "      <td>7</td>\n",
       "      <td>India</td>\n",
       "    </tr>\n",
       "    <tr>\n",
       "      <th>4</th>\n",
       "      <td>4,012,877</td>\n",
       "      <td>4%</td>\n",
       "      <td>481.5</td>\n",
       "      <td>4.69</td>\n",
       "      <td>1.24</td>\n",
       "      <td>262.05</td>\n",
       "      <td>40,193</td>\n",
       "      <td>8,570</td>\n",
       "      <td>18</td>\n",
       "      <td>Japan</td>\n",
       "    </tr>\n",
       "    <tr>\n",
       "      <th>5</th>\n",
       "      <td>3,631,287</td>\n",
       "      <td>4%</td>\n",
       "      <td>383.2</td>\n",
       "      <td>3.41</td>\n",
       "      <td>0.90</td>\n",
       "      <td>190.56</td>\n",
       "      <td>10,127</td>\n",
       "      <td>2,970</td>\n",
       "      <td>8</td>\n",
       "      <td>Russia</td>\n",
       "    </tr>\n",
       "  </tbody>\n",
       "</table>\n",
       "</div>"
      ],
      "text/plain": [
       "   Daily Oil Consumption (Barrels) World Share  Yearly Gallons Per Capita  \\\n",
       "S#                                                                          \n",
       "1                       19,687,287         20%                      934.3   \n",
       "2                       12,791,553         13%                      138.7   \n",
       "3                        4,443,000          5%                       51.4   \n",
       "4                        4,012,877          4%                      481.5   \n",
       "5                        3,631,287          4%                      383.2   \n",
       "\n",
       "    Price Per Gallon (USD)  Price Per Liter (USD)  Price Per Liter (PKR)  \\\n",
       "S#                                                                         \n",
       "1                     5.19                   1.37                 289.97   \n",
       "2                     5.42                   1.43                 302.87   \n",
       "3                     5.05                   1.33                 281.93   \n",
       "4                     4.69                   1.24                 262.05   \n",
       "5                     3.41                   0.90                 190.56   \n",
       "\n",
       "   GDP Per Capita ( USD ) Gallons GDP Per Capita Can Buy  \\\n",
       "S#                                                         \n",
       "1                  63,414                         12,218   \n",
       "2                  10,435                          1,925   \n",
       "3                   1,901                            376   \n",
       "4                  40,193                          8,570   \n",
       "5                  10,127                          2,970   \n",
       "\n",
       "    xTimes Yearly Gallons Per Capita Buy        Country  \n",
       "S#                                                       \n",
       "1                                     13  United States  \n",
       "2                                     14          China  \n",
       "3                                      7          India  \n",
       "4                                     18          Japan  \n",
       "5                                      8         Russia  "
      ]
     },
     "execution_count": 17,
     "metadata": {},
     "output_type": "execute_result"
    }
   ],
   "source": [
    "# checking the top 5 rows of the dataset\n",
    "df.head()"
   ]
  },
  {
   "cell_type": "markdown",
   "metadata": {},
   "source": [
    "### Exploratory Data Analysis on Petrol/Gas Dataset"
   ]
  },
  {
   "cell_type": "markdown",
   "metadata": {},
   "source": [
    "Now we will dig deep into the insights of the dataset by cleaning, visualizing, and building some analysis through them."
   ]
  },
  {
   "cell_type": "code",
   "execution_count": 18,
   "metadata": {},
   "outputs": [
    {
     "name": "stdout",
     "output_type": "stream",
     "text": [
      "There are 181 countries and 10 columns of each.\n"
     ]
    }
   ],
   "source": [
    "# check total countries and their columns\n",
    "print(f\"There are {len(df)} countries and {len(df.columns)} columns of each.\") \n",
    "#print(\"There are \",len(df),\"countries and \", len(df.columns),\"columns of each.\")"
   ]
  },
  {
   "cell_type": "code",
   "execution_count": 19,
   "metadata": {},
   "outputs": [
    {
     "name": "stdout",
     "output_type": "stream",
     "text": [
      "<class 'pandas.core.frame.DataFrame'>\n",
      "Int64Index: 181 entries, 1 to 181\n",
      "Data columns (total 10 columns):\n",
      " #   Column                                Non-Null Count  Dtype  \n",
      "---  ------                                --------------  -----  \n",
      " 0   Daily Oil Consumption (Barrels)       181 non-null    object \n",
      " 1   World Share                           181 non-null    object \n",
      " 2   Yearly Gallons Per Capita             181 non-null    float64\n",
      " 3   Price Per Gallon (USD)                181 non-null    float64\n",
      " 4   Price Per Liter (USD)                 181 non-null    float64\n",
      " 5   Price Per Liter (PKR)                 181 non-null    float64\n",
      " 6   GDP Per Capita ( USD )                181 non-null    object \n",
      " 7   Gallons GDP Per Capita Can Buy        181 non-null    object \n",
      " 8   xTimes Yearly Gallons Per Capita Buy  181 non-null    int64  \n",
      " 9   Country                               181 non-null    object \n",
      "dtypes: float64(4), int64(1), object(5)\n",
      "memory usage: 15.6+ KB\n"
     ]
    }
   ],
   "source": [
    "# dataset summary\n",
    "df.info()"
   ]
  },
  {
   "cell_type": "code",
   "execution_count": 20,
   "metadata": {},
   "outputs": [
    {
     "data": {
      "text/html": [
       "<div>\n",
       "<style scoped>\n",
       "    .dataframe tbody tr th:only-of-type {\n",
       "        vertical-align: middle;\n",
       "    }\n",
       "\n",
       "    .dataframe tbody tr th {\n",
       "        vertical-align: top;\n",
       "    }\n",
       "\n",
       "    .dataframe thead th {\n",
       "        text-align: right;\n",
       "    }\n",
       "</style>\n",
       "<table border=\"1\" class=\"dataframe\">\n",
       "  <thead>\n",
       "    <tr style=\"text-align: right;\">\n",
       "      <th></th>\n",
       "      <th>Yearly Gallons Per Capita</th>\n",
       "      <th>Price Per Gallon (USD)</th>\n",
       "      <th>Price Per Liter (USD)</th>\n",
       "      <th>Price Per Liter (PKR)</th>\n",
       "      <th>xTimes Yearly Gallons Per Capita Buy</th>\n",
       "    </tr>\n",
       "  </thead>\n",
       "  <tbody>\n",
       "    <tr>\n",
       "      <th>count</th>\n",
       "      <td>181.000000</td>\n",
       "      <td>181.000000</td>\n",
       "      <td>181.000000</td>\n",
       "      <td>181.000000</td>\n",
       "      <td>181.000000</td>\n",
       "    </tr>\n",
       "    <tr>\n",
       "      <th>mean</th>\n",
       "      <td>332.006630</td>\n",
       "      <td>5.695691</td>\n",
       "      <td>1.505138</td>\n",
       "      <td>318.219227</td>\n",
       "      <td>14.204420</td>\n",
       "    </tr>\n",
       "    <tr>\n",
       "      <th>std</th>\n",
       "      <td>436.558735</td>\n",
       "      <td>4.370484</td>\n",
       "      <td>1.154575</td>\n",
       "      <td>244.192081</td>\n",
       "      <td>48.613866</td>\n",
       "    </tr>\n",
       "    <tr>\n",
       "      <th>min</th>\n",
       "      <td>2.200000</td>\n",
       "      <td>0.080000</td>\n",
       "      <td>0.020000</td>\n",
       "      <td>4.650000</td>\n",
       "      <td>1.000000</td>\n",
       "    </tr>\n",
       "    <tr>\n",
       "      <th>25%</th>\n",
       "      <td>53.900000</td>\n",
       "      <td>4.150000</td>\n",
       "      <td>1.100000</td>\n",
       "      <td>232.020000</td>\n",
       "      <td>6.000000</td>\n",
       "    </tr>\n",
       "    <tr>\n",
       "      <th>50%</th>\n",
       "      <td>180.200000</td>\n",
       "      <td>5.280000</td>\n",
       "      <td>1.400000</td>\n",
       "      <td>295.040000</td>\n",
       "      <td>9.000000</td>\n",
       "    </tr>\n",
       "    <tr>\n",
       "      <th>75%</th>\n",
       "      <td>424.600000</td>\n",
       "      <td>6.760000</td>\n",
       "      <td>1.790000</td>\n",
       "      <td>377.740000</td>\n",
       "      <td>12.000000</td>\n",
       "    </tr>\n",
       "    <tr>\n",
       "      <th>max</th>\n",
       "      <td>3679.500000</td>\n",
       "      <td>54.890000</td>\n",
       "      <td>14.500000</td>\n",
       "      <td>3066.750000</td>\n",
       "      <td>654.000000</td>\n",
       "    </tr>\n",
       "  </tbody>\n",
       "</table>\n",
       "</div>"
      ],
      "text/plain": [
       "       Yearly Gallons Per Capita  Price Per Gallon (USD)  \\\n",
       "count                 181.000000              181.000000   \n",
       "mean                  332.006630                5.695691   \n",
       "std                   436.558735                4.370484   \n",
       "min                     2.200000                0.080000   \n",
       "25%                    53.900000                4.150000   \n",
       "50%                   180.200000                5.280000   \n",
       "75%                   424.600000                6.760000   \n",
       "max                  3679.500000               54.890000   \n",
       "\n",
       "       Price Per Liter (USD)  Price Per Liter (PKR)  \\\n",
       "count             181.000000             181.000000   \n",
       "mean                1.505138             318.219227   \n",
       "std                 1.154575             244.192081   \n",
       "min                 0.020000               4.650000   \n",
       "25%                 1.100000             232.020000   \n",
       "50%                 1.400000             295.040000   \n",
       "75%                 1.790000             377.740000   \n",
       "max                14.500000            3066.750000   \n",
       "\n",
       "       xTimes Yearly Gallons Per Capita Buy  \n",
       "count                            181.000000  \n",
       "mean                              14.204420  \n",
       "std                               48.613866  \n",
       "min                                1.000000  \n",
       "25%                                6.000000  \n",
       "50%                                9.000000  \n",
       "75%                               12.000000  \n",
       "max                              654.000000  "
      ]
     },
     "execution_count": 20,
     "metadata": {},
     "output_type": "execute_result"
    }
   ],
   "source": [
    "# here we will see the mean, dispersion and overall shape of the dataset.\n",
    "df.describe()"
   ]
  },
  {
   "cell_type": "markdown",
   "metadata": {},
   "source": [
    "### Data Cleaning"
   ]
  },
  {
   "cell_type": "markdown",
   "metadata": {},
   "source": [
    "Data cleaning include removing duplicates, handling missing values, removing outliers, adjusting the data types, removing\n",
    "irrelvant features/information, and validation."
   ]
  },
  {
   "cell_type": "code",
   "execution_count": 21,
   "metadata": {},
   "outputs": [
    {
     "name": "stdout",
     "output_type": "stream",
     "text": [
      "No missing values found in the dataset.\n"
     ]
    }
   ],
   "source": [
    "# visualizing the missing values in the numerical features of the dataset, if there is any\n",
    "klib.missingval_plot(df)"
   ]
  },
  {
   "cell_type": "code",
   "execution_count": 22,
   "metadata": {},
   "outputs": [
    {
     "name": "stdout",
     "output_type": "stream",
     "text": [
      "<class 'pandas.core.frame.DataFrame'>\n",
      "Int64Index: 181 entries, 1 to 181\n",
      "Data columns (total 10 columns):\n",
      " #   Column                                Non-Null Count  Dtype  \n",
      "---  ------                                --------------  -----  \n",
      " 0   Daily Oil Consumption (Barrels)       181 non-null    object \n",
      " 1   World Share                           181 non-null    object \n",
      " 2   Yearly Gallons Per Capita             181 non-null    float64\n",
      " 3   Price Per Gallon (USD)                181 non-null    float64\n",
      " 4   Price Per Liter (USD)                 181 non-null    float64\n",
      " 5   Price Per Liter (PKR)                 181 non-null    float64\n",
      " 6   GDP Per Capita ( USD )                181 non-null    object \n",
      " 7   Gallons GDP Per Capita Can Buy        181 non-null    object \n",
      " 8   xTimes Yearly Gallons Per Capita Buy  181 non-null    int64  \n",
      " 9   Country                               181 non-null    object \n",
      "dtypes: float64(4), int64(1), object(5)\n",
      "memory usage: 15.6+ KB\n"
     ]
    }
   ],
   "source": [
    "# summarize the type and overall picture of dataframe\n",
    "df.info()"
   ]
  },
  {
   "cell_type": "code",
   "execution_count": 23,
   "metadata": {},
   "outputs": [
    {
     "name": "stdout",
     "output_type": "stream",
     "text": [
      "Long column names detected (>25 characters). Consider renaming the following columns ['daily_oil_consumption_barrels', 'gallons_gdp_per_capita_can_buy', 'x_times_yearly_gallons_per_capita_buy'].\n",
      "Shape of cleaned data: (181, 10)Remaining NAs: 0\n",
      "\n",
      "Changes:\n",
      "Dropped rows: 0\n",
      "     of which 0 duplicates. (Rows: [])\n",
      "Dropped columns: 0\n",
      "     of which 0 single valued.     Columns: []\n",
      "Dropped missing values: 0\n",
      "Reduced memory by at least: 0.01 MB (-50.0%)\n",
      "\n"
     ]
    }
   ],
   "source": [
    "# will drop the duplicates, empty rows/cols, and adjust dtypes ...\n",
    "df_cleaned = klib.data_cleaning(df)"
   ]
  },
  {
   "cell_type": "code",
   "execution_count": 24,
   "metadata": {},
   "outputs": [
    {
     "name": "stdout",
     "output_type": "stream",
     "text": [
      "<class 'pandas.core.frame.DataFrame'>\n",
      "RangeIndex: 181 entries, 0 to 180\n",
      "Data columns (total 10 columns):\n",
      " #   Column                                 Non-Null Count  Dtype  \n",
      "---  ------                                 --------------  -----  \n",
      " 0   daily_oil_consumption_barrels          181 non-null    string \n",
      " 1   world_share                            181 non-null    string \n",
      " 2   yearly_gallons_per_capita              181 non-null    Float32\n",
      " 3   price_per_gallon_usd                   181 non-null    Float32\n",
      " 4   price_per_liter_usd                    181 non-null    Float32\n",
      " 5   price_per_liter_pkr                    181 non-null    Float32\n",
      " 6   gdp_per_capita_usd                     181 non-null    string \n",
      " 7   gallons_gdp_per_capita_can_buy         181 non-null    string \n",
      " 8   x_times_yearly_gallons_per_capita_buy  181 non-null    int16  \n",
      " 9   country                                181 non-null    string \n",
      "dtypes: Float32(4), int16(1), string(5)\n",
      "memory usage: 11.1 KB\n"
     ]
    }
   ],
   "source": [
    "df_cleaned.info()"
   ]
  },
  {
   "cell_type": "markdown",
   "metadata": {},
   "source": [
    "* Data contains no missing values, duplicates rows, and cols.\n",
    "* Some features of the dataset was assigned inappropriate dataset,\n",
    "* but after cleaning through \"Klib\" appropriate ones are assigned to them.\n",
    "* Also, it doesn't contain NAN value in any numerical feature."
   ]
  },
  {
   "cell_type": "markdown",
   "metadata": {},
   "source": [
    "As some of the features of the dataset contains strings dtype() which is logically wrong\n",
    "Which should've been assigned an integer type, also strings in these features contains commas in them. \n",
    "So, we need to remove those commas before converting them to numerical type \n"
   ]
  },
  {
   "cell_type": "code",
   "execution_count": 25,
   "metadata": {},
   "outputs": [],
   "source": [
    "# Not taking all the columns of strings type, just those which are wrongly assigned\n",
    "# removing commas and setting up the integer type for them\n",
    "for col in df_cleaned.columns[[0,6,7]]:\n",
    "    df_cleaned[col] = [val.replace(\",\",\"\") for val in df_cleaned[col]]\n",
    "    df_cleaned[col] = df_cleaned[col].astype(np.int64)"
   ]
  },
  {
   "cell_type": "code",
   "execution_count": null,
   "metadata": {},
   "outputs": [],
   "source": []
  },
  {
   "cell_type": "code",
   "execution_count": 26,
   "metadata": {},
   "outputs": [],
   "source": [
    "df_cleaned[\"world_share\"] = [val.replace(\"%\",\"\") for val in df_cleaned[\"world_share\"]]\n",
    "df_cleaned[\"world_share\"] = df_cleaned[\"world_share\"].astype(np.int64)"
   ]
  },
  {
   "cell_type": "code",
   "execution_count": 27,
   "metadata": {},
   "outputs": [
    {
     "name": "stdout",
     "output_type": "stream",
     "text": [
      "<class 'pandas.core.frame.DataFrame'>\n",
      "RangeIndex: 181 entries, 0 to 180\n",
      "Data columns (total 10 columns):\n",
      " #   Column                                 Non-Null Count  Dtype  \n",
      "---  ------                                 --------------  -----  \n",
      " 0   daily_oil_consumption_barrels          181 non-null    int64  \n",
      " 1   world_share(%)                         181 non-null    int64  \n",
      " 2   yearly_gallons_per_capita              181 non-null    Float32\n",
      " 3   price_per_gallon_usd                   181 non-null    Float32\n",
      " 4   price_per_liter_usd                    181 non-null    Float32\n",
      " 5   price_per_liter_pkr                    181 non-null    Float32\n",
      " 6   gdp_per_capita_usd                     181 non-null    int64  \n",
      " 7   gallons_gdp_per_capita_can_buy         181 non-null    int64  \n",
      " 8   x_times_yearly_gallons_per_capita_buy  181 non-null    int16  \n",
      " 9   country                                181 non-null    string \n",
      "dtypes: Float32(4), int16(1), int64(4), string(1)\n",
      "memory usage: 11.1 KB\n"
     ]
    }
   ],
   "source": [
    "# check the updated dtype of the features\n",
    "df_cleaned.rename(columns={\"world_share\":\"world_share(%)\"},inplace=True)\n",
    "df_cleaned.info()"
   ]
  },
  {
   "cell_type": "code",
   "execution_count": 37,
   "metadata": {},
   "outputs": [],
   "source": [
    "df_cleaned[\"daily_oil_consumption_barrels\"] /= 1000000\n",
    "df_cleaned.rename(columns={\"daily_oil_consumption_barrels\":\"daily_oil_consumption_barrels(million)\"},inplace=True)"
   ]
  },
  {
   "cell_type": "code",
   "execution_count": 28,
   "metadata": {},
   "outputs": [],
   "source": [
    "# Now set the Country column as the row index\n",
    "df_cleaned =  df_cleaned.set_index(\"country\")"
   ]
  },
  {
   "cell_type": "code",
   "execution_count": 38,
   "metadata": {},
   "outputs": [
    {
     "data": {
      "text/html": [
       "<div>\n",
       "<style scoped>\n",
       "    .dataframe tbody tr th:only-of-type {\n",
       "        vertical-align: middle;\n",
       "    }\n",
       "\n",
       "    .dataframe tbody tr th {\n",
       "        vertical-align: top;\n",
       "    }\n",
       "\n",
       "    .dataframe thead th {\n",
       "        text-align: right;\n",
       "    }\n",
       "</style>\n",
       "<table border=\"1\" class=\"dataframe\">\n",
       "  <thead>\n",
       "    <tr style=\"text-align: right;\">\n",
       "      <th></th>\n",
       "      <th>daily_oil_consumption_barrels(million)</th>\n",
       "      <th>world_share(%)</th>\n",
       "      <th>yearly_gallons_per_capita</th>\n",
       "      <th>price_per_gallon_usd</th>\n",
       "      <th>price_per_liter_usd</th>\n",
       "      <th>price_per_liter_pkr</th>\n",
       "      <th>gdp_per_capita_usd</th>\n",
       "      <th>gallons_gdp_per_capita_can_buy</th>\n",
       "      <th>x_times_yearly_gallons_per_capita_buy</th>\n",
       "    </tr>\n",
       "    <tr>\n",
       "      <th>country</th>\n",
       "      <th></th>\n",
       "      <th></th>\n",
       "      <th></th>\n",
       "      <th></th>\n",
       "      <th></th>\n",
       "      <th></th>\n",
       "      <th></th>\n",
       "      <th></th>\n",
       "      <th></th>\n",
       "    </tr>\n",
       "  </thead>\n",
       "  <tbody>\n",
       "    <tr>\n",
       "      <th>United States</th>\n",
       "      <td>19.687287</td>\n",
       "      <td>20</td>\n",
       "      <td>934.299988</td>\n",
       "      <td>5.19</td>\n",
       "      <td>1.37</td>\n",
       "      <td>289.970001</td>\n",
       "      <td>63414</td>\n",
       "      <td>12218</td>\n",
       "      <td>13</td>\n",
       "    </tr>\n",
       "    <tr>\n",
       "      <th>China</th>\n",
       "      <td>12.791553</td>\n",
       "      <td>13</td>\n",
       "      <td>138.699997</td>\n",
       "      <td>5.42</td>\n",
       "      <td>1.43</td>\n",
       "      <td>302.869995</td>\n",
       "      <td>10435</td>\n",
       "      <td>1925</td>\n",
       "      <td>14</td>\n",
       "    </tr>\n",
       "    <tr>\n",
       "      <th>India</th>\n",
       "      <td>4.443000</td>\n",
       "      <td>5</td>\n",
       "      <td>51.400002</td>\n",
       "      <td>5.05</td>\n",
       "      <td>1.33</td>\n",
       "      <td>281.929993</td>\n",
       "      <td>1901</td>\n",
       "      <td>376</td>\n",
       "      <td>7</td>\n",
       "    </tr>\n",
       "    <tr>\n",
       "      <th>Japan</th>\n",
       "      <td>4.012877</td>\n",
       "      <td>4</td>\n",
       "      <td>481.5</td>\n",
       "      <td>4.69</td>\n",
       "      <td>1.24</td>\n",
       "      <td>262.049988</td>\n",
       "      <td>40193</td>\n",
       "      <td>8570</td>\n",
       "      <td>18</td>\n",
       "    </tr>\n",
       "    <tr>\n",
       "      <th>Russia</th>\n",
       "      <td>3.631287</td>\n",
       "      <td>4</td>\n",
       "      <td>383.200012</td>\n",
       "      <td>3.41</td>\n",
       "      <td>0.9</td>\n",
       "      <td>190.559998</td>\n",
       "      <td>10127</td>\n",
       "      <td>2970</td>\n",
       "      <td>8</td>\n",
       "    </tr>\n",
       "  </tbody>\n",
       "</table>\n",
       "</div>"
      ],
      "text/plain": [
       "               daily_oil_consumption_barrels(million)  world_share(%)  \\\n",
       "country                                                                 \n",
       "United States                               19.687287              20   \n",
       "China                                       12.791553              13   \n",
       "India                                        4.443000               5   \n",
       "Japan                                        4.012877               4   \n",
       "Russia                                       3.631287               4   \n",
       "\n",
       "               yearly_gallons_per_capita  price_per_gallon_usd  \\\n",
       "country                                                          \n",
       "United States                 934.299988                  5.19   \n",
       "China                         138.699997                  5.42   \n",
       "India                          51.400002                  5.05   \n",
       "Japan                              481.5                  4.69   \n",
       "Russia                        383.200012                  3.41   \n",
       "\n",
       "               price_per_liter_usd  price_per_liter_pkr  gdp_per_capita_usd  \\\n",
       "country                                                                       \n",
       "United States                 1.37           289.970001               63414   \n",
       "China                         1.43           302.869995               10435   \n",
       "India                         1.33           281.929993                1901   \n",
       "Japan                         1.24           262.049988               40193   \n",
       "Russia                         0.9           190.559998               10127   \n",
       "\n",
       "               gallons_gdp_per_capita_can_buy  \\\n",
       "country                                         \n",
       "United States                           12218   \n",
       "China                                    1925   \n",
       "India                                     376   \n",
       "Japan                                    8570   \n",
       "Russia                                   2970   \n",
       "\n",
       "               x_times_yearly_gallons_per_capita_buy  \n",
       "country                                               \n",
       "United States                                     13  \n",
       "China                                             14  \n",
       "India                                              7  \n",
       "Japan                                             18  \n",
       "Russia                                             8  "
      ]
     },
     "execution_count": 38,
     "metadata": {},
     "output_type": "execute_result"
    }
   ],
   "source": [
    "df_cleaned.head()"
   ]
  },
  {
   "cell_type": "markdown",
   "metadata": {},
   "source": [
    "### Univariate Analysis"
   ]
  },
  {
   "cell_type": "markdown",
   "metadata": {},
   "source": [
    "Check whether the features follow the normal distribution or not."
   ]
  },
  {
   "cell_type": "code",
   "execution_count": 39,
   "metadata": {},
   "outputs": [
    {
     "data": {
      "image/png": "[encoded data removed]",
      "text/plain": [
       "<Figure size 1080x720 with 9 Axes>"
      ]
     },
     "metadata": {
      "needs_background": "light"
     },
     "output_type": "display_data"
    }
   ],
   "source": [
    "%matplotlib inline\n",
    "# total 9 numerical columns\n",
    "# distribution plot of all columns to check the normal distribution curve, if they're following\n",
    "# creating a 3x3 matrix of distplot\n",
    "fig, axes = plt.subplots(nrows=3, ncols=3, figsize=(15,10))\n",
    "for i, col in enumerate(df_cleaned.columns):\n",
    "    sns.distplot(df_cleaned[col],ax=axes[i//3,i%3])"
   ]
  },
  {
   "cell_type": "code",
   "execution_count": 64,
   "metadata": {},
   "outputs": [
    {
     "data": {
      "image/png": "[encoded data removed]",
      "text/plain": [
       "<Figure size 1440x720 with 9 Axes>"
      ]
     },
     "metadata": {
      "needs_background": "light"
     },
     "output_type": "display_data"
    }
   ],
   "source": [
    "# checking outliers using the boxplot\n",
    "fig, axes = plt.subplots(nrows=3, ncols=3, figsize=(20,10))\n",
    "for i, col in enumerate(df_cleaned.columns):\n",
    "    sns.boxplot(df_cleaned[col],ax=axes[i//3,i%3])"
   ]
  },
  {
   "cell_type": "code",
   "execution_count": 94,
   "metadata": {},
   "outputs": [],
   "source": [
    "# function to calculate the outliers of the given np.array \n",
    "def findOutliers(arr):\n",
    "    # calculating the quantiles\n",
    "    q1 = np.quantile(arr,0.25)\n",
    "    q3 = np.quantile(arr,0.75)\n",
    "    q2 = np.median(arr)\n",
    "    iqr = q3-q1\n",
    "    upper_bound = q3+(1.5*iqr)\n",
    "    lower_bound = q1-(1.5*iqr)\n",
    "    outlier = arr[(arr <= lower_bound) | (arr >= upper_bound)]\n",
    "    return outlier"
   ]
  },
  {
   "cell_type": "code",
   "execution_count": 95,
   "metadata": {},
   "outputs": [
    {
     "data": {
      "text/plain": [
       "<FloatingArray>\n",
       "[11.21, 4.65, 634.29, 6.56, 3066.75, 638.73, 905.22]\n",
       "Length: 7, dtype: Float32"
      ]
     },
     "execution_count": 95,
     "metadata": {},
     "output_type": "execute_result"
    }
   ],
   "source": [
    "# outliers in the price per liter pkr column of the dataset\n",
    "findOutliers(df_cleaned[\"price_per_liter_pkr\"].values)"
   ]
  },
  {
   "cell_type": "code",
   "execution_count": 99,
   "metadata": {},
   "outputs": [
    {
     "data": {
      "text/html": [
       "<div>\n",
       "<style scoped>\n",
       "    .dataframe tbody tr th:only-of-type {\n",
       "        vertical-align: middle;\n",
       "    }\n",
       "\n",
       "    .dataframe tbody tr th {\n",
       "        vertical-align: top;\n",
       "    }\n",
       "\n",
       "    .dataframe thead th {\n",
       "        text-align: right;\n",
       "    }\n",
       "</style>\n",
       "<table border=\"1\" class=\"dataframe\">\n",
       "  <thead>\n",
       "    <tr style=\"text-align: right;\">\n",
       "      <th></th>\n",
       "      <th>daily_oil_consumption_barrels(million)</th>\n",
       "      <th>world_share(%)</th>\n",
       "      <th>yearly_gallons_per_capita</th>\n",
       "      <th>price_per_gallon_usd</th>\n",
       "      <th>price_per_liter_usd</th>\n",
       "      <th>price_per_liter_pkr</th>\n",
       "      <th>gdp_per_capita_usd</th>\n",
       "      <th>gallons_gdp_per_capita_can_buy</th>\n",
       "      <th>x_times_yearly_gallons_per_capita_buy</th>\n",
       "    </tr>\n",
       "    <tr>\n",
       "      <th>country</th>\n",
       "      <th></th>\n",
       "      <th></th>\n",
       "      <th></th>\n",
       "      <th></th>\n",
       "      <th></th>\n",
       "      <th></th>\n",
       "      <th></th>\n",
       "      <th></th>\n",
       "      <th></th>\n",
       "    </tr>\n",
       "  </thead>\n",
       "  <tbody>\n",
       "    <tr>\n",
       "      <th>Iran</th>\n",
       "      <td>1.803999</td>\n",
       "      <td>2</td>\n",
       "      <td>347.600006</td>\n",
       "      <td>0.2</td>\n",
       "      <td>0.05</td>\n",
       "      <td>11.21</td>\n",
       "      <td>2423</td>\n",
       "      <td>12115</td>\n",
       "      <td>35</td>\n",
       "    </tr>\n",
       "    <tr>\n",
       "      <th>Venezuela</th>\n",
       "      <td>0.598000</td>\n",
       "      <td>1</td>\n",
       "      <td>307.100006</td>\n",
       "      <td>0.08</td>\n",
       "      <td>0.02</td>\n",
       "      <td>4.65</td>\n",
       "      <td>16056</td>\n",
       "      <td>200700</td>\n",
       "      <td>654</td>\n",
       "    </tr>\n",
       "    <tr>\n",
       "      <th>Hong Kong</th>\n",
       "      <td>0.408491</td>\n",
       "      <td>0</td>\n",
       "      <td>864.5</td>\n",
       "      <td>11.35</td>\n",
       "      <td>3.0</td>\n",
       "      <td>634.289978</td>\n",
       "      <td>46324</td>\n",
       "      <td>4081</td>\n",
       "      <td>5</td>\n",
       "    </tr>\n",
       "    <tr>\n",
       "      <th>Libya</th>\n",
       "      <td>0.223000</td>\n",
       "      <td>0</td>\n",
       "      <td>526.599976</td>\n",
       "      <td>0.12</td>\n",
       "      <td>0.03</td>\n",
       "      <td>6.56</td>\n",
       "      <td>3699</td>\n",
       "      <td>30825</td>\n",
       "      <td>59</td>\n",
       "    </tr>\n",
       "    <tr>\n",
       "      <th>North Korea</th>\n",
       "      <td>0.018000</td>\n",
       "      <td>0</td>\n",
       "      <td>10.9</td>\n",
       "      <td>54.889999</td>\n",
       "      <td>14.5</td>\n",
       "      <td>3066.75</td>\n",
       "      <td>1300</td>\n",
       "      <td>24</td>\n",
       "      <td>2</td>\n",
       "    </tr>\n",
       "  </tbody>\n",
       "</table>\n",
       "</div>"
      ],
      "text/plain": [
       "             daily_oil_consumption_barrels(million)  world_share(%)  \\\n",
       "country                                                               \n",
       "Iran                                       1.803999               2   \n",
       "Venezuela                                  0.598000               1   \n",
       "Hong Kong                                  0.408491               0   \n",
       "Libya                                      0.223000               0   \n",
       "North Korea                                0.018000               0   \n",
       "\n",
       "             yearly_gallons_per_capita  price_per_gallon_usd  \\\n",
       "country                                                        \n",
       "Iran                        347.600006                   0.2   \n",
       "Venezuela                   307.100006                  0.08   \n",
       "Hong Kong                        864.5                 11.35   \n",
       "Libya                       526.599976                  0.12   \n",
       "North Korea                       10.9             54.889999   \n",
       "\n",
       "             price_per_liter_usd  price_per_liter_pkr  gdp_per_capita_usd  \\\n",
       "country                                                                     \n",
       "Iran                        0.05                11.21                2423   \n",
       "Venezuela                   0.02                 4.65               16056   \n",
       "Hong Kong                    3.0           634.289978               46324   \n",
       "Libya                       0.03                 6.56                3699   \n",
       "North Korea                 14.5              3066.75                1300   \n",
       "\n",
       "             gallons_gdp_per_capita_can_buy  \\\n",
       "country                                       \n",
       "Iran                                  12115   \n",
       "Venezuela                            200700   \n",
       "Hong Kong                              4081   \n",
       "Libya                                 30825   \n",
       "North Korea                              24   \n",
       "\n",
       "             x_times_yearly_gallons_per_capita_buy  \n",
       "country                                             \n",
       "Iran                                            35  \n",
       "Venezuela                                      654  \n",
       "Hong Kong                                        5  \n",
       "Libya                                           59  \n",
       "North Korea                                      2  "
      ]
     },
     "execution_count": 99,
     "metadata": {},
     "output_type": "execute_result"
    }
   ],
   "source": [
    "# records of the countries, which contain outlier \"price per liter pkr\"\n",
    "df_cleaned[df_cleaned[\"price_per_liter_pkr\"].isin(findOutliers(df_cleaned[\"price_per_liter_pkr\"].values))].head()"
   ]
  },
  {
   "cell_type": "code",
   "execution_count": null,
   "metadata": {},
   "outputs": [],
   "source": []
  },
  {
   "cell_type": "code",
   "execution_count": null,
   "metadata": {},
   "outputs": [],
   "source": []
  }
 ],
 "metadata": {
  "kernelspec": {
   "display_name": "Python 3 (ipykernel)",
   "language": "python",
   "name": "python3"
  },
  "language_info": {
   "codemirror_mode": {
    "name": "ipython",
    "version": 3
   },
   "file_extension": ".py",
   "mimetype": "text/x-python",
   "name": "python",
   "nbconvert_exporter": "python",
   "pygments_lexer": "ipython3",
   "version": "3.9.12"
  },
  "vscode": {
   "interpreter": {
    "hash": "15b6eb46025870888bcaa831565eda312d98f230e29fcc1c06a1c9096249353c"
   }
  }
 },
 "nbformat": 4,
 "nbformat_minor": 2
}
