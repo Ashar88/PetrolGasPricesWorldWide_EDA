{
 "cells": [
  {
   "cell_type": "markdown",
   "id": "9b1f9a68-8427-48ca-a017-d2704b31a5b4",
   "metadata": {},
   "source": [
    "#### Importing Necessary Libraries"
   ]
  },
  {
   "cell_type": "code",
   "execution_count": 1,
   "id": "2df9053c-660f-485e-87e3-fe3d645a6638",
   "metadata": {},
   "outputs": [],
   "source": [
    "import numpy as np\n",
    "import pandas as pd\n",
    "import matplotlib.pyplot as plt"
   ]
  },
  {
   "cell_type": "markdown",
   "id": "db2a4977-0c50-40b4-9c90-dd5f318d6c17",
   "metadata": {},
   "source": [
    "#### Reading the `Petrol Price Dataset`"
   ]
  },
  {
   "cell_type": "code",
   "execution_count": 2,
   "id": "f65c622c-10dd-4b19-84e6-b0050dd1b493",
   "metadata": {
    "tags": []
   },
   "outputs": [],
   "source": [
    "df = pd.read_csv(\"Petrol Dataset June 20 2022.csv\", encoding='latin-1', index_col=1)\n",
    "df = df.drop(columns=\"#\")"
   ]
  },
  {
   "cell_type": "code",
   "execution_count": 3,
   "id": "a1362cb4-8d1f-4f6d-92d0-2498095fc7b6",
   "metadata": {},
   "outputs": [
    {
     "data": {
      "text/html": [
       "<div>\n",
       "<style scoped>\n",
       "    .dataframe tbody tr th:only-of-type {\n",
       "        vertical-align: middle;\n",
       "    }\n",
       "\n",
       "    .dataframe tbody tr th {\n",
       "        vertical-align: top;\n",
       "    }\n",
       "\n",
       "    .dataframe thead th {\n",
       "        text-align: right;\n",
       "    }\n",
       "</style>\n",
       "<table border=\"1\" class=\"dataframe\">\n",
       "  <thead>\n",
       "    <tr style=\"text-align: right;\">\n",
       "      <th></th>\n",
       "      <th>Daily Oil Consumption (Barrels)</th>\n",
       "      <th>World Share</th>\n",
       "      <th>Yearly Gallons Per Capita</th>\n",
       "      <th>Price Per Gallon (USD)</th>\n",
       "      <th>Price Per Liter (USD)</th>\n",
       "      <th>Price Per Liter (PKR)</th>\n",
       "    </tr>\n",
       "    <tr>\n",
       "      <th>Country</th>\n",
       "      <th></th>\n",
       "      <th></th>\n",
       "      <th></th>\n",
       "      <th></th>\n",
       "      <th></th>\n",
       "      <th></th>\n",
       "    </tr>\n",
       "  </thead>\n",
       "  <tbody>\n",
       "    <tr>\n",
       "      <th>Saint Pierre &amp; Miquelon</th>\n",
       "      <td>660</td>\n",
       "      <td>0.00%</td>\n",
       "      <td>1705.1</td>\n",
       "      <td>8.27</td>\n",
       "      <td>2.19</td>\n",
       "      <td>462.13</td>\n",
       "    </tr>\n",
       "    <tr>\n",
       "      <th>Kiribati</th>\n",
       "      <td>400</td>\n",
       "      <td>0.00%</td>\n",
       "      <td>54.5</td>\n",
       "      <td>4.09</td>\n",
       "      <td>1.08</td>\n",
       "      <td>228.42</td>\n",
       "    </tr>\n",
       "    <tr>\n",
       "      <th>Montserrat</th>\n",
       "      <td>400</td>\n",
       "      <td>0.00%</td>\n",
       "      <td>1231.1</td>\n",
       "      <td>4.57</td>\n",
       "      <td>1.21</td>\n",
       "      <td>255.07</td>\n",
       "    </tr>\n",
       "    <tr>\n",
       "      <th>Saint Helena</th>\n",
       "      <td>70</td>\n",
       "      <td>0.00%</td>\n",
       "      <td>180.2</td>\n",
       "      <td>5.53</td>\n",
       "      <td>1.46</td>\n",
       "      <td>309.21</td>\n",
       "    </tr>\n",
       "    <tr>\n",
       "      <th>Niue</th>\n",
       "      <td>51</td>\n",
       "      <td>0.00%</td>\n",
       "      <td>484.4</td>\n",
       "      <td>11.43</td>\n",
       "      <td>3.02</td>\n",
       "      <td>638.73</td>\n",
       "    </tr>\n",
       "  </tbody>\n",
       "</table>\n",
       "</div>"
      ],
      "text/plain": [
       "                         Daily Oil Consumption (Barrels) World Share  \\\n",
       "Country                                                                \n",
       "Saint Pierre & Miquelon                              660       0.00%   \n",
       "Kiribati                                             400       0.00%   \n",
       "Montserrat                                           400       0.00%   \n",
       "Saint Helena                                          70       0.00%   \n",
       "Niue                                                  51       0.00%   \n",
       "\n",
       "                         Yearly Gallons Per Capita  Price Per Gallon (USD)  \\\n",
       "Country                                                                      \n",
       "Saint Pierre & Miquelon                     1705.1                    8.27   \n",
       "Kiribati                                      54.5                    4.09   \n",
       "Montserrat                                  1231.1                    4.57   \n",
       "Saint Helena                                 180.2                    5.53   \n",
       "Niue                                         484.4                   11.43   \n",
       "\n",
       "                         Price Per Liter (USD)  Price Per Liter (PKR)  \n",
       "Country                                                                \n",
       "Saint Pierre & Miquelon                   2.19                 462.13  \n",
       "Kiribati                                  1.08                 228.42  \n",
       "Montserrat                                1.21                 255.07  \n",
       "Saint Helena                              1.46                 309.21  \n",
       "Niue                                      3.02                 638.73  "
      ]
     },
     "execution_count": 3,
     "metadata": {},
     "output_type": "execute_result"
    }
   ],
   "source": [
    "df.tail()"
   ]
  },
  {
   "cell_type": "markdown",
   "id": "5ba1e6a3-80a0-49a6-8cca-59679f0313cd",
   "metadata": {},
   "source": [
    " "
   ]
  },
  {
   "cell_type": "markdown",
   "id": "21c1d63e-6f3a-459d-baf3-027793376170",
   "metadata": {},
   "source": [
    "#### Checking Data's dtypes and whether their exists any null value"
   ]
  },
  {
   "cell_type": "code",
   "execution_count": 4,
   "id": "0f28085d-7da8-4fe1-a357-aa7cfbc8b2a5",
   "metadata": {},
   "outputs": [
    {
     "name": "stdout",
     "output_type": "stream",
     "text": [
      "<class 'pandas.core.frame.DataFrame'>\n",
      "Index: 181 entries, United States to Niue\n",
      "Data columns (total 6 columns):\n",
      " #   Column                           Non-Null Count  Dtype  \n",
      "---  ------                           --------------  -----  \n",
      " 0   Daily Oil Consumption (Barrels)  181 non-null    int64  \n",
      " 1   World Share                      181 non-null    object \n",
      " 2   Yearly Gallons Per Capita        181 non-null    float64\n",
      " 3   Price Per Gallon (USD)           181 non-null    float64\n",
      " 4   Price Per Liter (USD)            181 non-null    float64\n",
      " 5   Price Per Liter (PKR)            181 non-null    float64\n",
      "dtypes: float64(4), int64(1), object(1)\n",
      "memory usage: 9.9+ KB\n"
     ]
    }
   ],
   "source": [
    "df.info()"
   ]
  },
  {
   "cell_type": "markdown",
   "id": "09682205-39bc-45f7-87e7-f990aaa68846",
   "metadata": {},
   "source": [
    "-> Dataset looks already `cleaned` but have some `mismatch` datatype (e.g. World Share) and some consumes more space"
   ]
  },
  {
   "cell_type": "markdown",
   "id": "ed8d46ef-4895-48be-a6ff-4db9453338ae",
   "metadata": {},
   "source": [
    "#### To `resolve` this, we are going to use `Klib` Python library."
   ]
  },
  {
   "cell_type": "code",
   "execution_count": 5,
   "id": "57540f9b-28d6-4df1-90f4-2458af40fdcf",
   "metadata": {},
   "outputs": [],
   "source": [
    "import klib as kl;"
   ]
  },
  {
   "cell_type": "markdown",
   "id": "69ceb469-b50f-4a24-897c-c3ce94636946",
   "metadata": {
    "tags": []
   },
   "source": [
    "#### First we are going to change `World Share` column to float by removing the `%` Sign."
   ]
  },
  {
   "cell_type": "code",
   "execution_count": 6,
   "id": "e34ff687-c62e-4efa-83cc-5cd7bd8dfaec",
   "metadata": {},
   "outputs": [],
   "source": [
    "def func(x):\n",
    "    if x[-1]==\"%\":\n",
    "        return x[:-1]\n",
    "    else: return x\n",
    "\n",
    "\n",
    "df[\"World Share\"] = df[\"World Share\"].apply(lambda x:  func(x))  \n",
    "df = df.rename(columns= {\"World Share\" : \"World Share (%)\"})"
   ]
  },
  {
   "cell_type": "code",
   "execution_count": 7,
   "id": "b3d662d3-0c8e-4899-8937-9e0ce97ca3db",
   "metadata": {},
   "outputs": [],
   "source": [
    "# df = kl.convert_datatypes(df)\n",
    "df[\"World Share (%)\"] = pd.to_numeric(df[\"World Share (%)\"])\n"
   ]
  },
  {
   "cell_type": "markdown",
   "id": "cd3870bc-8285-4190-8267-1c8cfe69a6bf",
   "metadata": {},
   "source": [
    "#### Saving the current Progress into a new csv file"
   ]
  },
  {
   "cell_type": "code",
   "execution_count": 8,
   "id": "21796f80-7666-4f53-9eca-6f09a66ac637",
   "metadata": {},
   "outputs": [],
   "source": [
    "# df.to_csv(\"petrol_updated.csv\")"
   ]
  },
  {
   "cell_type": "markdown",
   "id": "93d9f54b-5ece-424e-b6be-e3ff8f6002a7",
   "metadata": {},
   "source": [
    " "
   ]
  },
  {
   "cell_type": "markdown",
   "id": "553e868f-3e2b-4ff9-a4f5-a45212758a7a",
   "metadata": {},
   "source": [
    "#### Now Data is up to the mark to do further Analysis"
   ]
  },
  {
   "cell_type": "markdown",
   "id": "9a90a411-facc-4c76-9632-0b5b68c0e38a",
   "metadata": {},
   "source": [
    " "
   ]
  },
  {
   "cell_type": "code",
   "execution_count": 9,
   "id": "b60b7577-9d2b-4452-b07f-1356776b4b90",
   "metadata": {},
   "outputs": [
    {
     "data": {
      "text/html": [
       "<div>\n",
       "<style scoped>\n",
       "    .dataframe tbody tr th:only-of-type {\n",
       "        vertical-align: middle;\n",
       "    }\n",
       "\n",
       "    .dataframe tbody tr th {\n",
       "        vertical-align: top;\n",
       "    }\n",
       "\n",
       "    .dataframe thead th {\n",
       "        text-align: right;\n",
       "    }\n",
       "</style>\n",
       "<table border=\"1\" class=\"dataframe\">\n",
       "  <thead>\n",
       "    <tr style=\"text-align: right;\">\n",
       "      <th></th>\n",
       "      <th>Daily Oil Consumption (Barrels)</th>\n",
       "      <th>World Share (%)</th>\n",
       "      <th>Yearly Gallons Per Capita</th>\n",
       "      <th>Price Per Gallon (USD)</th>\n",
       "      <th>Price Per Liter (USD)</th>\n",
       "      <th>Price Per Liter (PKR)</th>\n",
       "    </tr>\n",
       "    <tr>\n",
       "      <th>Country</th>\n",
       "      <th></th>\n",
       "      <th></th>\n",
       "      <th></th>\n",
       "      <th></th>\n",
       "      <th></th>\n",
       "      <th></th>\n",
       "    </tr>\n",
       "  </thead>\n",
       "  <tbody>\n",
       "    <tr>\n",
       "      <th>United States</th>\n",
       "      <td>19687287</td>\n",
       "      <td>20.3</td>\n",
       "      <td>934.3</td>\n",
       "      <td>5.19</td>\n",
       "      <td>1.37</td>\n",
       "      <td>289.97</td>\n",
       "    </tr>\n",
       "    <tr>\n",
       "      <th>China</th>\n",
       "      <td>12791553</td>\n",
       "      <td>13.2</td>\n",
       "      <td>138.7</td>\n",
       "      <td>5.42</td>\n",
       "      <td>1.43</td>\n",
       "      <td>302.87</td>\n",
       "    </tr>\n",
       "    <tr>\n",
       "      <th>India</th>\n",
       "      <td>4443000</td>\n",
       "      <td>4.6</td>\n",
       "      <td>51.4</td>\n",
       "      <td>5.05</td>\n",
       "      <td>1.33</td>\n",
       "      <td>281.93</td>\n",
       "    </tr>\n",
       "    <tr>\n",
       "      <th>Japan</th>\n",
       "      <td>4012877</td>\n",
       "      <td>4.1</td>\n",
       "      <td>481.5</td>\n",
       "      <td>4.69</td>\n",
       "      <td>1.24</td>\n",
       "      <td>262.05</td>\n",
       "    </tr>\n",
       "    <tr>\n",
       "      <th>Russia</th>\n",
       "      <td>3631287</td>\n",
       "      <td>3.7</td>\n",
       "      <td>383.2</td>\n",
       "      <td>3.41</td>\n",
       "      <td>0.90</td>\n",
       "      <td>190.56</td>\n",
       "    </tr>\n",
       "  </tbody>\n",
       "</table>\n",
       "</div>"
      ],
      "text/plain": [
       "               Daily Oil Consumption (Barrels)  World Share (%)  \\\n",
       "Country                                                           \n",
       "United States                         19687287             20.3   \n",
       "China                                 12791553             13.2   \n",
       "India                                  4443000              4.6   \n",
       "Japan                                  4012877              4.1   \n",
       "Russia                                 3631287              3.7   \n",
       "\n",
       "               Yearly Gallons Per Capita  Price Per Gallon (USD)  \\\n",
       "Country                                                            \n",
       "United States                      934.3                    5.19   \n",
       "China                              138.7                    5.42   \n",
       "India                               51.4                    5.05   \n",
       "Japan                              481.5                    4.69   \n",
       "Russia                             383.2                    3.41   \n",
       "\n",
       "               Price Per Liter (USD)  Price Per Liter (PKR)  \n",
       "Country                                                      \n",
       "United States                   1.37                 289.97  \n",
       "China                           1.43                 302.87  \n",
       "India                           1.33                 281.93  \n",
       "Japan                           1.24                 262.05  \n",
       "Russia                          0.90                 190.56  "
      ]
     },
     "execution_count": 9,
     "metadata": {},
     "output_type": "execute_result"
    }
   ],
   "source": [
    "df.head()"
   ]
  },
  {
   "cell_type": "markdown",
   "id": "6aa815fd-f258-49a7-aaeb-372da55ca2d9",
   "metadata": {},
   "source": [
    " "
   ]
  },
  {
   "cell_type": "markdown",
   "id": "72e041de-db60-4a63-8435-74d05dac6b6f",
   "metadata": {},
   "source": [
    "## Feature Analysis"
   ]
  },
  {
   "cell_type": "markdown",
   "id": "37fe00e9-33c9-45e5-a9e4-4a8c2ea2e743",
   "metadata": {},
   "source": [
    "### Univariate Analysis"
   ]
  },
  {
   "cell_type": "code",
   "execution_count": 10,
   "id": "d9ac800d-fedf-4b3d-ac13-767d22ff5c55",
   "metadata": {},
   "outputs": [
    {
     "data": {
      "text/html": [
       "<div>\n",
       "<style scoped>\n",
       "    .dataframe tbody tr th:only-of-type {\n",
       "        vertical-align: middle;\n",
       "    }\n",
       "\n",
       "    .dataframe tbody tr th {\n",
       "        vertical-align: top;\n",
       "    }\n",
       "\n",
       "    .dataframe thead th {\n",
       "        text-align: right;\n",
       "    }\n",
       "</style>\n",
       "<table border=\"1\" class=\"dataframe\">\n",
       "  <thead>\n",
       "    <tr style=\"text-align: right;\">\n",
       "      <th></th>\n",
       "      <th>Daily Oil Consumption (Barrels)</th>\n",
       "      <th>World Share (%)</th>\n",
       "      <th>Yearly Gallons Per Capita</th>\n",
       "      <th>Price Per Gallon (USD)</th>\n",
       "      <th>Price Per Liter (USD)</th>\n",
       "      <th>Price Per Liter (PKR)</th>\n",
       "    </tr>\n",
       "  </thead>\n",
       "  <tbody>\n",
       "    <tr>\n",
       "      <th>count</th>\n",
       "      <td>1.810000e+02</td>\n",
       "      <td>181.000000</td>\n",
       "      <td>181.000000</td>\n",
       "      <td>181.000000</td>\n",
       "      <td>181.000000</td>\n",
       "      <td>181.000000</td>\n",
       "    </tr>\n",
       "    <tr>\n",
       "      <th>mean</th>\n",
       "      <td>5.335730e+05</td>\n",
       "      <td>0.550331</td>\n",
       "      <td>332.006630</td>\n",
       "      <td>5.695691</td>\n",
       "      <td>1.505138</td>\n",
       "      <td>318.219227</td>\n",
       "    </tr>\n",
       "    <tr>\n",
       "      <th>std</th>\n",
       "      <td>1.858067e+06</td>\n",
       "      <td>1.916530</td>\n",
       "      <td>436.558735</td>\n",
       "      <td>4.370484</td>\n",
       "      <td>1.154575</td>\n",
       "      <td>244.192081</td>\n",
       "    </tr>\n",
       "    <tr>\n",
       "      <th>min</th>\n",
       "      <td>5.100000e+01</td>\n",
       "      <td>0.000000</td>\n",
       "      <td>2.200000</td>\n",
       "      <td>0.080000</td>\n",
       "      <td>0.020000</td>\n",
       "      <td>4.650000</td>\n",
       "    </tr>\n",
       "    <tr>\n",
       "      <th>25%</th>\n",
       "      <td>2.003600e+04</td>\n",
       "      <td>0.020000</td>\n",
       "      <td>53.900000</td>\n",
       "      <td>4.150000</td>\n",
       "      <td>1.100000</td>\n",
       "      <td>232.020000</td>\n",
       "    </tr>\n",
       "    <tr>\n",
       "      <th>50%</th>\n",
       "      <td>6.161200e+04</td>\n",
       "      <td>0.060000</td>\n",
       "      <td>180.200000</td>\n",
       "      <td>5.280000</td>\n",
       "      <td>1.400000</td>\n",
       "      <td>295.040000</td>\n",
       "    </tr>\n",
       "    <tr>\n",
       "      <th>75%</th>\n",
       "      <td>2.623520e+05</td>\n",
       "      <td>0.300000</td>\n",
       "      <td>424.600000</td>\n",
       "      <td>6.760000</td>\n",
       "      <td>1.790000</td>\n",
       "      <td>377.740000</td>\n",
       "    </tr>\n",
       "    <tr>\n",
       "      <th>max</th>\n",
       "      <td>1.968729e+07</td>\n",
       "      <td>20.300000</td>\n",
       "      <td>3679.500000</td>\n",
       "      <td>54.890000</td>\n",
       "      <td>14.500000</td>\n",
       "      <td>3066.750000</td>\n",
       "    </tr>\n",
       "  </tbody>\n",
       "</table>\n",
       "</div>"
      ],
      "text/plain": [
       "       Daily Oil Consumption (Barrels)  World Share (%)  \\\n",
       "count                     1.810000e+02       181.000000   \n",
       "mean                      5.335730e+05         0.550331   \n",
       "std                       1.858067e+06         1.916530   \n",
       "min                       5.100000e+01         0.000000   \n",
       "25%                       2.003600e+04         0.020000   \n",
       "50%                       6.161200e+04         0.060000   \n",
       "75%                       2.623520e+05         0.300000   \n",
       "max                       1.968729e+07        20.300000   \n",
       "\n",
       "       Yearly Gallons Per Capita  Price Per Gallon (USD)  \\\n",
       "count                 181.000000              181.000000   \n",
       "mean                  332.006630                5.695691   \n",
       "std                   436.558735                4.370484   \n",
       "min                     2.200000                0.080000   \n",
       "25%                    53.900000                4.150000   \n",
       "50%                   180.200000                5.280000   \n",
       "75%                   424.600000                6.760000   \n",
       "max                  3679.500000               54.890000   \n",
       "\n",
       "       Price Per Liter (USD)  Price Per Liter (PKR)  \n",
       "count             181.000000             181.000000  \n",
       "mean                1.505138             318.219227  \n",
       "std                 1.154575             244.192081  \n",
       "min                 0.020000               4.650000  \n",
       "25%                 1.100000             232.020000  \n",
       "50%                 1.400000             295.040000  \n",
       "75%                 1.790000             377.740000  \n",
       "max                14.500000            3066.750000  "
      ]
     },
     "execution_count": 10,
     "metadata": {},
     "output_type": "execute_result"
    }
   ],
   "source": [
    "df.describe()"
   ]
  },
  {
   "cell_type": "markdown",
   "id": "ce1ff4be-fbda-45be-991d-2b5df6563d33",
   "metadata": {},
   "source": [
    "#### Plotting `Histogram` of every feature to check the `Normal distribution`"
   ]
  },
  {
   "cell_type": "code",
   "execution_count": 28,
   "id": "07f37a7e-9695-444c-a2f6-3a9e22b95525",
   "metadata": {},
   "outputs": [
    {
     "data": {
      "image/png": "[encoded data removed]",
      "text/plain": [
       "<Figure size 936x720 with 6 Axes>"
      ]
     },
     "metadata": {
      "needs_background": "light"
     },
     "output_type": "display_data"
    }
   ],
   "source": [
    "fig, axes = plt.subplots(2,3, figsize=(13,10))\n",
    "for i,feature in enumerate(df.columns):\n",
    "    axes[i//3, i%3].hist(df[feature], bins = 15, align = \"right\")\n",
    "    axes[i//3, i%3].set_xlabel(feature)\n",
    "    axes[i//3, i%3].set_ylabel(\"Frequency\")\n",
    "    \n",
    "# plt.hist()\n",
    "plt.show()"
   ]
  },
  {
   "cell_type": "markdown",
   "id": "07697111-6b91-450e-b26e-765e8fa5675d",
   "metadata": {},
   "source": [
    "By this we can clearly see that the data features is not normally distributed. But for further testing, we will be plotting the QQplot"
   ]
  },
  {
   "cell_type": "markdown",
   "id": "f938c8c2-5050-44ee-a381-0c9f1145cac1",
   "metadata": {},
   "source": [
    "### Quantile – Quantile plot"
   ]
  },
  {
   "cell_type": "code",
   "execution_count": 29,
   "id": "c2651533-7c78-46ee-8a16-e7b49df36bbd",
   "metadata": {},
   "outputs": [],
   "source": [
    "import statsmodels.api as sm\n",
    "import pylab as py"
   ]
  },
  {
   "cell_type": "code",
   "execution_count": 35,
   "id": "2a2df52d-f1b4-4f3a-91ea-3b9e9214db8b",
   "metadata": {},
   "outputs": [
    {
     "data": {
      "image/png": "[encoded data removed]",
      "text/plain": [
       "<Figure size 432x288 with 1 Axes>"
      ]
     },
     "metadata": {
      "needs_background": "light"
     },
     "output_type": "display_data"
    },
    {
     "data": {
      "image/png": "[encoded data removed]",
      "text/plain": [
       "<Figure size 432x288 with 1 Axes>"
      ]
     },
     "metadata": {
      "needs_background": "light"
     },
     "output_type": "display_data"
    },
    {
     "data": {
      "image/png": "[encoded data removed]",
      "text/plain": [
       "<Figure size 432x288 with 1 Axes>"
      ]
     },
     "metadata": {
      "needs_background": "light"
     },
     "output_type": "display_data"
    },
    {
     "data": {
      "image/png": "[encoded data removed]",
      "text/plain": [
       "<Figure size 432x288 with 1 Axes>"
      ]
     },
     "metadata": {
      "needs_background": "light"
     },
     "output_type": "display_data"
    },
    {
     "data": {
      "image/png": "[encoded data removed]",
      "text/plain": [
       "<Figure size 432x288 with 1 Axes>"
      ]
     },
     "metadata": {
      "needs_background": "light"
     },
     "output_type": "display_data"
    },
    {
     "data": {
      "image/png": "[encoded data removed]",
      "text/plain": [
       "<Figure size 432x288 with 1 Axes>"
      ]
     },
     "metadata": {
      "needs_background": "light"
     },
     "output_type": "display_data"
    }
   ],
   "source": [
    "for i,feature in enumerate(df.columns):\n",
    "    sm.qqplot(df[feature], line ='45')\n",
    "    py.show()"
   ]
  },
  {
   "cell_type": "markdown",
   "id": "34ee5950-b993-44f4-b3d0-0b4ec00e6cc1",
   "metadata": {},
   "source": [
    "so clearly, qqplot confirms that data is not normally distributed"
   ]
  },
  {
   "cell_type": "markdown",
   "id": "f6036194-029d-494d-89a4-f0ed9970c5dd",
   "metadata": {},
   "source": [
    "### Factors affecting the Petrol Price per liter"
   ]
  },
  {
   "cell_type": "markdown",
   "id": "ffee03c7-f2af-436f-a78f-0352cab4f1dd",
   "metadata": {},
   "source": [
    "\n",
    "#### Comparsion between Daliy Oil Comsumption and Price Per liter of random Countries"
   ]
  },
  {
   "cell_type": "code",
   "execution_count": 12,
   "id": "b773f768-3d59-4e23-8c1f-fc6390b0a062",
   "metadata": {},
   "outputs": [],
   "source": [
    "countries = np.array(df.index)         #Storing an array for countries name.\n",
    "selected_countries = np.random.choice(countries, 50)     # random selection of countries"
   ]
  },
  {
   "cell_type": "code",
   "execution_count": 13,
   "id": "2cbc41bf-dc72-4644-b032-c98925bf4526",
   "metadata": {},
   "outputs": [],
   "source": [
    "# print(selected_countries)"
   ]
  },
  {
   "cell_type": "code",
   "execution_count": 14,
   "id": "725830ae-312b-405a-9018-759dffd02430",
   "metadata": {},
   "outputs": [],
   "source": [
    "# for country in selected_countries:\n",
    "#     pos = df.loc[country]\n",
    "#     plt.scatter( pos[\"Price Per Liter (USD)\"], pos[\"Daily Oil Consumption (Barrels)\"], label = country  )\n",
    "        \n",
    "# plt.legend()\n",
    "# plt.xlabel(\"Price Per Liter (USD\")\n",
    "# plt.title(\"Daliy Oil Comsumption Vs Price Per liter (USD)\")\n",
    "# plt.ylabel(\"Daily Oil Consumption (Barrels)\")\n",
    "\n",
    "# plt.show()"
   ]
  }
 ],
 "metadata": {
  "kernelspec": {
   "display_name": "Python 3 (ipykernel)",
   "language": "python",
   "name": "python3"
  },
  "language_info": {
   "codemirror_mode": {
    "name": "ipython",
    "version": 3
   },
   "file_extension": ".py",
   "mimetype": "text/x-python",
   "name": "python",
   "nbconvert_exporter": "python",
   "pygments_lexer": "ipython3",
   "version": "3.9.12"
  }
 },
 "nbformat": 4,
 "nbformat_minor": 5
}
